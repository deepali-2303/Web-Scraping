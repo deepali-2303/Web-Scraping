{
 "cells": [
  {
   "cell_type": "code",
   "execution_count": 1,
   "id": "7e482dbb",
   "metadata": {},
   "outputs": [],
   "source": [
    "#libraries\n",
    "import requests\n",
    "from bs4 import BeautifulSoup\n",
    "from lxml import etree\n",
    "import sqlite3"
   ]
  },
  {
   "cell_type": "code",
   "execution_count": 2,
   "id": "1d8ff5c2",
   "metadata": {},
   "outputs": [],
   "source": [
    "#links\n",
    "#target urls to which GET requests will be sent\n",
    "\n",
    "#recent release\n",
    "recent_release = \"https://gogoanimehd.io/\"\n",
    "\n",
    "#movies \n",
    "movies = \"https://gogoanimehd.io/anime-movies.html\"\n",
    "\n",
    "#popular\n",
    "popular = \"https://gogoanimehd.io/popular.html\"\n",
    "\n",
    "#new season\n",
    "new = \"https://gogoanimehd.io/new-season.html\"\n"
   ]
  },
  {
   "cell_type": "code",
   "execution_count": 3,
   "id": "327a743d",
   "metadata": {},
   "outputs": [],
   "source": [
    "#Storing the response recieved from HTTP GET request\n",
    "recent_release_response = requests.get(recent_release)\n",
    "movies_response = requests.get(movies)\n",
    "popular_response = requests.get(popular)\n",
    "new_response = requests.get(new)"
   ]
  },
  {
   "cell_type": "code",
   "execution_count": 4,
   "id": "229b330c",
   "metadata": {},
   "outputs": [],
   "source": [
    "#soup\n",
    "#creating a BeautifulSoup object by parsing the HTML content received from the response using the \"html.parser\"\n",
    "soup_recent_release = BeautifulSoup(recent_release_response.content,\"html.parser\")\n",
    "soup_movies = BeautifulSoup(movies_response.content,\"html.parser\")\n",
    "soup_popular = BeautifulSoup(popular_response.content,\"html.parser\")\n",
    "soup_new = BeautifulSoup(new_response.content, \"html.parser\")"
   ]
  },
  {
   "cell_type": "code",
   "execution_count": 5,
   "id": "3590479f",
   "metadata": {},
   "outputs": [],
   "source": [
    "# creating an ElementTree object for parsing HTML content using lxml - for xpath queries\n",
    "dom_recent_release = etree.HTML(str(soup_recent_release))\n",
    "dom_movies = etree.HTML(str(soup_movies))\n",
    "dom_popular = etree.HTML(str(soup_popular))\n",
    "dom_new = etree.HTML(str(soup_new))"
   ]
  },
  {
   "cell_type": "code",
   "execution_count": 6,
   "id": "7c94bf4c",
   "metadata": {},
   "outputs": [
    {
     "name": "stdout",
     "output_type": "stream",
     "text": [
      "20\n",
      "20\n",
      "20\n"
     ]
    }
   ],
   "source": [
    "#data for recent episodes\n",
    "\n",
    "#USING XPATH\n",
    "name = (dom_recent_release.xpath('//div[@class=\"last_episodes loaddub\"]/ul[@class=\"items\"]/li//*[@class=\"name\"]/a/text()'))\n",
    "img = (dom_recent_release.xpath('//*[@class = \"img\"]/a/img/@src'))\n",
    "episodes = (dom_recent_release.xpath('//*[@class = \"episode\"]/text()'))\n",
    "\n",
    "\n",
    "print(len(name))\n",
    "print(len(img))\n",
    "print(len(episodes))\n",
    "# print(name)\n",
    "# print(img)\n",
    "# print(episodes)\n",
    "\n"
   ]
  },
  {
   "cell_type": "code",
   "execution_count": 7,
   "id": "70b7e94c",
   "metadata": {},
   "outputs": [
    {
     "name": "stdout",
     "output_type": "stream",
     "text": [
      "82\n",
      "82\n"
     ]
    }
   ],
   "source": [
    "#data for genres\n",
    "\n",
    "#USING CSS PATH\n",
    "genres = soup_recent_release.find(\"nav\", class_=\"menu_series genre right\")\n",
    "ul_element = genres.find('ul')\n",
    "li_elements = ul_element.find_all('li')\n",
    "genre_name = []\n",
    "references = []\n",
    "\n",
    "\n",
    "for li in li_elements:\n",
    "    name_ = li.text.strip()\n",
    "    genre_name.append(name_)\n",
    "    genre_href = li.find('a')['href']\n",
    "    references.append(( genre_href))\n",
    "    \n",
    "print(len(genre_name))\n",
    "# print(genre_name)\n",
    "print(len(references))\n",
    "# print(references)\n"
   ]
  },
  {
   "cell_type": "code",
   "execution_count": 8,
   "id": "3b729827",
   "metadata": {},
   "outputs": [
    {
     "name": "stdout",
     "output_type": "stream",
     "text": [
      "20\n",
      "20\n",
      "20\n"
     ]
    }
   ],
   "source": [
    "#data for movies\n",
    "\n",
    "#USING XPATH\n",
    "Mname = (dom_movies.xpath('//div[@class=\"last_episodes\"]/ul[@class=\"items\"]/li//*[@class=\"name\"]/a/text()'))\n",
    "Mimg = (dom_movies.xpath('//div[@class=\"last_episodes\"]/ul[@class=\"items\"]/li//*[@class = \"img\"]/a/img/@src'))\n",
    "Mrelease = [release.strip() for release in dom_movies.xpath('//div[@class=\"last_episodes\"]/ul[@class=\"items\"]/li//*[@class=\"released\"]/text()')]\n",
    "\n",
    "\n",
    "print(len(Mname))\n",
    "print(len(Mimg))\n",
    "print(len(Mrelease))\n",
    "\n",
    "# print(Mname)\n",
    "# print(Mimg)\n",
    "# print(Mrelease)\n"
   ]
  },
  {
   "cell_type": "code",
   "execution_count": 9,
   "id": "0d090a9b",
   "metadata": {},
   "outputs": [
    {
     "name": "stdout",
     "output_type": "stream",
     "text": [
      "20\n",
      "20\n",
      "20\n"
     ]
    }
   ],
   "source": [
    "#data for popular animes\n",
    "\n",
    "#Using CSS path\n",
    "Pop = soup_popular.find(\"div\" , class_ = \"last_episodes\")\n",
    "ul = Pop.find(\"ul\",  class_=\"items\")\n",
    "li = ul.find_all('li')\n",
    "Pname = []\n",
    "Pimg=[]\n",
    "Prel = []\n",
    "\n",
    "for l in li:\n",
    "    Pname.append(l.select_one(\"p.name\").text)\n",
    "    Pimg.append(l.select_one(\"div.img img\")[\"src\"])\n",
    "    Prel.append(l.select_one(\"p.released\").text.strip())\n",
    "\n",
    "    \n",
    " \n",
    "print(len(Pname))\n",
    "print(len(Pimg))\n",
    "print(len(Prel))"
   ]
  },
  {
   "cell_type": "code",
   "execution_count": 10,
   "id": "eb95b0d5",
   "metadata": {},
   "outputs": [
    {
     "name": "stdout",
     "output_type": "stream",
     "text": [
      "20\n",
      "20\n",
      "20\n"
     ]
    }
   ],
   "source": [
    "#data for New Season\n",
    "\n",
    "#Using Css path\n",
    "New= soup_popular.find(\"div\" , class_ = \"last_episodes\")\n",
    "n_ul = New.find(\"ul\",  class_=\"items\")\n",
    "n_li = n_ul.find_all('li')\n",
    "Nname = []\n",
    "Nimg=[]\n",
    "Nrel = []\n",
    "\n",
    "for l in n_li:\n",
    "    Nname.append(l.select_one(\"p.name\").text)\n",
    "    Nimg.append(l.select_one(\"div.img img\")[\"src\"])\n",
    "    Nrel.append(l.select_one(\"p.released\").text.strip())\n",
    "\n",
    "    \n",
    " \n",
    "print(len(Nname))\n",
    "print(len(Nimg))\n",
    "print(len(Nrel))"
   ]
  },
  {
   "cell_type": "code",
   "execution_count": 11,
   "id": "7ab40b48",
   "metadata": {},
   "outputs": [],
   "source": [
    "#database connection \n",
    "connection = sqlite3.connect(\"Anime_Website.db\")\n",
    "# cursor is used to execute SQL statements and manage the result set\n",
    "c = connection.cursor()"
   ]
  },
  {
   "cell_type": "code",
   "execution_count": 12,
   "id": "2efd0ddd",
   "metadata": {},
   "outputs": [
    {
     "data": {
      "text/plain": [
       "<sqlite3.Cursor at 0x1c9aca58340>"
      ]
     },
     "execution_count": 12,
     "metadata": {},
     "output_type": "execute_result"
    }
   ],
   "source": [
    "#creating tables\n",
    "\n",
    "c.execute('''CREATE TABLE IF NOT EXISTS Recent_Release\n",
    "             (Name TEXT, \n",
    "             Image url,\n",
    "             Episodes TEXT)''')\n",
    "\n",
    "c.execute('''CREATE TABLE IF NOT EXISTS Genres\n",
    "             (Name TEXT, \n",
    "             Reference url)''')\n",
    "c.execute('''CREATE TABLE IF NOT EXISTS Movies\n",
    "             (Name TEXT,\n",
    "             Image url,\n",
    "             Released TEXT)''')\n",
    "c.execute('''CREATE TABLE IF NOT EXISTS Popular\n",
    "             (Name TEXT,\n",
    "             Image url,\n",
    "             Released TEXT)''')\n",
    "c.execute('''CREATE TABLE IF NOT EXISTS NewSeason\n",
    "             (Name TEXT,\n",
    "             Image url,\n",
    "             Released TEXT)''')\n"
   ]
  },
  {
   "cell_type": "code",
   "execution_count": 13,
   "id": "1dbb5851",
   "metadata": {},
   "outputs": [],
   "source": [
    "#inserting data into the tables\n",
    "\n",
    "for n,i,e in zip(name,img,episodes):\n",
    "  c.execute(\"INSERT INTO Recent_Release (Name, Image, Episodes) VALUES (?,?,?)\",(n,i,e))\n",
    "\n",
    "for ng,r in zip(genre_name,references):\n",
    "    c.execute(\"INSERT INTO Genres (Name,Reference) VALUES (?,?)\",(ng,r))\n",
    "    \n",
    "for mn,mi,me in zip(Mname,Mimg,Mrelease):\n",
    "  c.execute(\"INSERT INTO Movies (Name, Image, Released) VALUES (?,?,?)\",(mn,mi,me))\n",
    "\n",
    "for pn,pi,pe in zip(Pname,Pimg,Prel):\n",
    "  c.execute(\"INSERT INTO Popular (Name, Image, Released) VALUES (?,?,?)\",(pn,pi,pe))\n",
    "\n",
    "for nn,ni,ne in zip(Nname,Nimg,Nrel):\n",
    "  c.execute(\"INSERT INTO NewSeason (Name, Image, Released) VALUES (?,?,?)\",(nn,ni,ne))\n",
    "\n"
   ]
  },
  {
   "cell_type": "code",
   "execution_count": 14,
   "id": "a7426bf3",
   "metadata": {},
   "outputs": [],
   "source": [
    "#commiting to db and closing the connection\n",
    "\n",
    "connection.commit()\n",
    "connection.close()"
   ]
  }
 ],
 "metadata": {
  "kernelspec": {
   "display_name": "Python 3 (ipykernel)",
   "language": "python",
   "name": "python3"
  },
  "language_info": {
   "codemirror_mode": {
    "name": "ipython",
    "version": 3
   },
   "file_extension": ".py",
   "mimetype": "text/x-python",
   "name": "python",
   "nbconvert_exporter": "python",
   "pygments_lexer": "ipython3",
   "version": "3.10.1"
  }
 },
 "nbformat": 4,
 "nbformat_minor": 5
}
