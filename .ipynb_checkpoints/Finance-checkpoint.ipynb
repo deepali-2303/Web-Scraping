{
 "cells": [
  {
   "cell_type": "code",
   "execution_count": 1,
   "id": "93c6f325",
   "metadata": {},
   "outputs": [],
   "source": [
    "#libraries\n",
    "import requests\n",
    "from bs4 import BeautifulSoup\n",
    "from lxml import etree\n",
    "import sqlite3"
   ]
  },
  {
   "cell_type": "code",
   "execution_count": 2,
   "id": "a5d81958",
   "metadata": {},
   "outputs": [],
   "source": [
    "#links for different webpages\n",
    "\n",
    "#market trends -\n",
    "\n",
    "#most active\n",
    "most_active = \"https://www.google.com/finance/markets/most-active?hl=en\"\n",
    "\n",
    "#gainers\n",
    "gainers = \"https://www.google.com/finance/markets/gainers?hl=en\"\n",
    "\n",
    "#losers\n",
    "losers = \"https://www.google.com/finance/markets/losers?hl=en\"\n",
    "\n",
    "#currencies\n",
    "currencies = \"https://www.google.com/finance/markets/currencies?hl=en\"\n",
    "\n",
    "#financial news - \n",
    "\n",
    "#top stories\n",
    "top_stories = \"https://www.google.com/finance/?hl=en\"\n"
   ]
  },
  {
   "cell_type": "code",
   "execution_count": 3,
   "id": "1e774249",
   "metadata": {},
   "outputs": [],
   "source": [
    "#responses recieved from urls\n",
    "\n",
    "most_active_response = requests.get(most_active)\n",
    "gainers_response = requests.get(gainers)\n",
    "losers_response = requests.get(losers)\n",
    "currencies_response = requests.get(currencies)\n",
    "top_stories_response = requests.get(top_stories)"
   ]
  },
  {
   "cell_type": "code",
   "execution_count": 4,
   "id": "e2878107",
   "metadata": {},
   "outputs": [],
   "source": [
    "#soup\n",
    "\n",
    "soup_most_active = BeautifulSoup(most_active_response.content,\"html.parser\")\n",
    "soup_gainers = BeautifulSoup(gainers_response.content,\"html.parser\")\n",
    "soup_losers = BeautifulSoup(losers_response.content,\"html.parser\")\n",
    "soup_currencies = BeautifulSoup(currencies_response.content,\"html.parser\")\n",
    "soup_top_stories = BeautifulSoup(top_stories_response.content,\"html.parser\")"
   ]
  },
  {
   "cell_type": "code",
   "execution_count": 5,
   "id": "3b00ecbc",
   "metadata": {},
   "outputs": [],
   "source": [
    "#dom\n",
    "\n",
    "dom_most_active = etree.HTML(str(soup_most_active))\n",
    "dom_gainers = etree.HTML(str(soup_gainers))\n",
    "dom_losers = etree.HTML(str(soup_losers))\n",
    "dom_currencies = etree.HTML(str(soup_currencies))\n",
    "dom_top_stories = etree.HTML(str(soup_top_stories))"
   ]
  },
  {
   "cell_type": "code",
   "execution_count": 6,
   "id": "5473e49d",
   "metadata": {},
   "outputs": [
    {
     "name": "stdout",
     "output_type": "stream",
     "text": [
      "50\n",
      "50\n"
     ]
    }
   ],
   "source": [
    "# most_active data\n",
    "\n",
    "names = (dom_most_active.xpath('//*[@class=\"ZvmM7\"]/text()'))\n",
    "current_prices = (dom_most_active.xpath('//div[@class=\"xVyTdb ytSBif\"]/span[@class=\"JLPHhb\"]/div[@class=\"Bu4oXd\" and @jsname=\"ip75Cb\"]//*[@class=\"YMlKec\"]/text()'))\n",
    "print(len(names))\n",
    "print(len(current_prices))"
   ]
  },
  {
   "cell_type": "code",
   "execution_count": 7,
   "id": "7e6e071e",
   "metadata": {},
   "outputs": [
    {
     "name": "stdout",
     "output_type": "stream",
     "text": [
      "50\n",
      "50\n",
      "50\n"
     ]
    }
   ],
   "source": [
    "#gainers data\n",
    "Gnames = (dom_gainers.xpath('//*[@class=\"ZvmM7\"]/text()'))\n",
    "Gcurrent_prices = (dom_gainers.xpath('//div[@class=\"xVyTdb ytSBif\"]/span[@class=\"JLPHhb\"]/div[@class=\"Bu4oXd\" and @jsname=\"ip75Cb\"]//*[@class=\"YMlKec\"]/text()'))\n",
    "Ggain = (dom_gainers.xpath('//div[@class=\"xVyTdb ghTit\"]/div[@class=\"SEGxAb\"]/div[@class=\"BAftM\" and @jsname=\"vY9t3b\"]//*[@class=\"P2Luy Ez2Ioe\"]/text()'))\n",
    "print(len(Gnames))\n",
    "print(len(Gcurrent_prices))\n",
    "# print(Gnames) \n",
    "print(len(Ggain))\n",
    "# print(Ggain)"
   ]
  },
  {
   "cell_type": "code",
   "execution_count": 8,
   "id": "067d9b81",
   "metadata": {},
   "outputs": [
    {
     "name": "stdout",
     "output_type": "stream",
     "text": [
      "50\n",
      "50\n",
      "50\n"
     ]
    }
   ],
   "source": [
    "#losers data\n",
    "\n",
    "Lnames = (dom_losers.xpath('//*[@class=\"ZvmM7\"]/text()'))\n",
    "Lcurrent_prices = (dom_losers.xpath('//div[@class=\"xVyTdb ytSBif\"]/span[@class=\"JLPHhb\"]/div[@class=\"Bu4oXd\" and @jsname=\"ip75Cb\"]//*[@class=\"YMlKec\"]/text()'))\n",
    "Llose = (dom_losers.xpath('//div[@class=\"xVyTdb ghTit\"]/div[@class=\"SEGxAb\"]/div[@class=\"BAftM\" and @jsname=\"vY9t3b\"]//*[@class=\"P2Luy Ebnabc\"]/text()'))\n",
    "print(len(Lnames))\n",
    "print(len(Lcurrent_prices))\n",
    "print(len(Llose))\n"
   ]
  },
  {
   "cell_type": "code",
   "execution_count": 9,
   "id": "246656a2",
   "metadata": {},
   "outputs": [
    {
     "name": "stdout",
     "output_type": "stream",
     "text": [
      "69\n",
      "69\n"
     ]
    }
   ],
   "source": [
    "#currencies data\n",
    "Currency = (dom_currencies.xpath('//*[@class=\"ZvmM7\"]/text()'))\n",
    "Price = (dom_currencies.xpath('//div[@class=\"xVyTdb ytSBif\"]/span[@class=\"JLPHhb\"]/div[@class=\"Bu4oXd\" and @jsname=\"ip75Cb\"]//*[@class=\"YMlKec\"]/text()'))\n",
    "# print(Currency)\n",
    "# print(Price)\n",
    "print(len(Currency))\n",
    "print(len(Price))"
   ]
  },
  {
   "cell_type": "code",
   "execution_count": 131,
   "id": "fae01c10",
   "metadata": {},
   "outputs": [
    {
     "name": "stdout",
     "output_type": "stream",
     "text": [
      "./\n",
      "https://www.google.co.in/intl/en/about/products?tab=eh\n",
      "https://accounts.google.com/ServiceLogin?passive=1209600&continue=https://www.google.com/finance/?hl%3Den&followup=https://www.google.com/finance/?hl%3Den&hl=en&ec=GAZAGw\n",
      "./\n",
      "./\n",
      "./\n",
      "./markets/indexes\n",
      "./settings\n"
     ]
    },
    {
     "ename": "KeyError",
     "evalue": "'href'",
     "output_type": "error",
     "traceback": [
      "\u001b[1;31m---------------------------------------------------------------------------\u001b[0m",
      "\u001b[1;31mKeyError\u001b[0m                                  Traceback (most recent call last)",
      "Cell \u001b[1;32mIn[131], line 4\u001b[0m\n\u001b[0;32m      2\u001b[0m links \u001b[38;5;241m=\u001b[39m soup_top_stories\u001b[38;5;241m.\u001b[39mselect(\u001b[38;5;124m'\u001b[39m\u001b[38;5;124ma\u001b[39m\u001b[38;5;124m'\u001b[39m ,class_\u001b[38;5;241m=\u001b[39m\u001b[38;5;124m\"\u001b[39m\u001b[38;5;124mNaLFgc\u001b[39m\u001b[38;5;124m\"\u001b[39m,jsaction\u001b[38;5;241m=\u001b[39m\u001b[38;5;124m\"\u001b[39m\u001b[38;5;124mrcuQ6b:WYd;IBB03b:rXxpye;oFr1Ad:.CLIENT;FVbF8b:.CLIENT\u001b[39m\u001b[38;5;124m\"\u001b[39m)\n\u001b[0;32m      3\u001b[0m \u001b[38;5;28;01mfor\u001b[39;00m link \u001b[38;5;129;01min\u001b[39;00m links:\n\u001b[1;32m----> 4\u001b[0m     \u001b[38;5;28mprint\u001b[39m(\u001b[43mlink\u001b[49m\u001b[43m[\u001b[49m\u001b[38;5;124;43m'\u001b[39;49m\u001b[38;5;124;43mhref\u001b[39;49m\u001b[38;5;124;43m'\u001b[39;49m\u001b[43m]\u001b[49m)\n",
      "File \u001b[1;32mC:\\python\\lib\\site-packages\\bs4\\element.py:1535\u001b[0m, in \u001b[0;36mTag.__getitem__\u001b[1;34m(self, key)\u001b[0m\n\u001b[0;32m   1532\u001b[0m \u001b[38;5;28;01mdef\u001b[39;00m \u001b[38;5;21m__getitem__\u001b[39m(\u001b[38;5;28mself\u001b[39m, key):\n\u001b[0;32m   1533\u001b[0m \u001b[38;5;250m    \u001b[39m\u001b[38;5;124;03m\"\"\"tag[key] returns the value of the 'key' attribute for the Tag,\u001b[39;00m\n\u001b[0;32m   1534\u001b[0m \u001b[38;5;124;03m    and throws an exception if it's not there.\"\"\"\u001b[39;00m\n\u001b[1;32m-> 1535\u001b[0m     \u001b[38;5;28;01mreturn\u001b[39;00m \u001b[38;5;28;43mself\u001b[39;49m\u001b[38;5;241;43m.\u001b[39;49m\u001b[43mattrs\u001b[49m\u001b[43m[\u001b[49m\u001b[43mkey\u001b[49m\u001b[43m]\u001b[49m\n",
      "\u001b[1;31mKeyError\u001b[0m: 'href'"
     ]
    }
   ],
   "source": [
    "#top_stories data\n",
    "links = soup_top_stories.select('a' ,class_=\"NaLFgc\")\n",
    "for link in links:\n",
    "    print(link['href'])"
   ]
  },
  {
   "cell_type": "code",
   "execution_count": 118,
   "id": "a8649c01",
   "metadata": {},
   "outputs": [],
   "source": [
    "#database connection \n",
    "\n",
    "connection = sqlite3.connect(\"Google_Finance.db\")\n",
    "c = connection.cursor()"
   ]
  },
  {
   "cell_type": "code",
   "execution_count": 93,
   "id": "65fc72cd",
   "metadata": {},
   "outputs": [
    {
     "data": {
      "text/plain": [
       "<sqlite3.Cursor at 0x275741185c0>"
      ]
     },
     "execution_count": 93,
     "metadata": {},
     "output_type": "execute_result"
    }
   ],
   "source": [
    "#creating tables \n",
    "\n",
    "#most_active table\n",
    "c.execute('''CREATE TABLE IF NOT EXISTS MostActive\n",
    "             (name TEXT, \n",
    "             price TEXT)''')\n",
    "\n",
    "#gainers table\n",
    "c.execute('''CREATE TABLE IF NOT EXISTS Gainers\n",
    "             (Gname TEXT, \n",
    "             Gprice TEXT,\n",
    "             Ggain TEXT)''')\n",
    "#losers table\n",
    "c.execute('''CREATE TABLE IF NOT EXISTS Losers\n",
    "             (Lname TEXT, \n",
    "             Lprice TEXT,\n",
    "             Llose TEXT)''')\n",
    "\n",
    "#currencies table\n",
    "c.execute('''CREATE TABLE IF NOT EXISTS Currencies\n",
    "             (Currency TEXT,\n",
    "             Price TEXT)''')\n",
    "#top_stories table\n"
   ]
  },
  {
   "cell_type": "code",
   "execution_count": 103,
   "id": "8488fc4b",
   "metadata": {},
   "outputs": [
    {
     "ename": "OperationalError",
     "evalue": "database is locked",
     "output_type": "error",
     "traceback": [
      "\u001b[1;31m---------------------------------------------------------------------------\u001b[0m",
      "\u001b[1;31mOperationalError\u001b[0m                          Traceback (most recent call last)",
      "Cell \u001b[1;32mIn[103], line 5\u001b[0m\n\u001b[0;32m      1\u001b[0m \u001b[38;5;66;03m# inserting data into tables\u001b[39;00m\n\u001b[0;32m      2\u001b[0m \n\u001b[0;32m      3\u001b[0m \u001b[38;5;66;03m#most_active table\u001b[39;00m\n\u001b[0;32m      4\u001b[0m \u001b[38;5;28;01mfor\u001b[39;00m name,price \u001b[38;5;129;01min\u001b[39;00m \u001b[38;5;28mzip\u001b[39m(names,current_prices):\n\u001b[1;32m----> 5\u001b[0m   \u001b[43mc\u001b[49m\u001b[38;5;241;43m.\u001b[39;49m\u001b[43mexecute\u001b[49m\u001b[43m(\u001b[49m\u001b[38;5;124;43m\"\u001b[39;49m\u001b[38;5;124;43mINSERT INTO MostActive (name, price) VALUES (?,?)\u001b[39;49m\u001b[38;5;124;43m\"\u001b[39;49m\u001b[43m,\u001b[49m\u001b[43m(\u001b[49m\u001b[43mname\u001b[49m\u001b[43m,\u001b[49m\u001b[43mprice\u001b[49m\u001b[43m)\u001b[49m\u001b[43m)\u001b[49m\n\u001b[0;32m      7\u001b[0m \u001b[38;5;66;03m#gainers table\u001b[39;00m\n\u001b[0;32m      8\u001b[0m \u001b[38;5;28;01mfor\u001b[39;00m Gname,Gprice,Ggain \u001b[38;5;129;01min\u001b[39;00m \u001b[38;5;28mzip\u001b[39m(Gnames,Gcurrent_prices,Ggain):\n",
      "\u001b[1;31mOperationalError\u001b[0m: database is locked"
     ]
    }
   ],
   "source": [
    "# inserting data into tables\n",
    "\n",
    "#most_active table\n",
    "for name,price in zip(names,current_prices):\n",
    "  c.execute(\"INSERT INTO MostActive (name, price) VALUES (?,?)\",(name,price))\n",
    "\n",
    "#gainers table\n",
    "for Gname,Gprice,Ggain in zip(Gnames,Gcurrent_prices,Ggain):\n",
    "  c.execute(\"INSERT INTO Gainers (Gname, Gprice, Ggain) VALUES (?,?,?)\",(Gname,Gprice,Ggain))\n",
    "\n",
    "#losers table\n",
    "for Lname,Lprice,Llose in zip(Lnames,Lcurrent_prices,Llose):\n",
    "  c.execute(\"INSERT INTO Losers (Lname, Lprice, Llose) VALUES (?,?,?)\",(Lname,Lprice,Llose))\n",
    "\n",
    "#currencies table\n",
    "for curr,price in zip(Currency,Price):\n",
    "    c.execute(\"INSERT INTO Currencies (Currency,Price) VALUES (?,?)\",(curr,price))\n",
    "    \n",
    "#top_stories table"
   ]
  },
  {
   "cell_type": "code",
   "execution_count": 14,
   "id": "c7485ff1",
   "metadata": {},
   "outputs": [],
   "source": [
    "#commiting to db and closing connection\n",
    "\n",
    "connection.commit()\n",
    "connection.close()"
   ]
  }
 ],
 "metadata": {
  "kernelspec": {
   "display_name": "Python 3 (ipykernel)",
   "language": "python",
   "name": "python3"
  },
  "language_info": {
   "codemirror_mode": {
    "name": "ipython",
    "version": 3
   },
   "file_extension": ".py",
   "mimetype": "text/x-python",
   "name": "python",
   "nbconvert_exporter": "python",
   "pygments_lexer": "ipython3",
   "version": "3.10.1"
  }
 },
 "nbformat": 4,
 "nbformat_minor": 5
}
