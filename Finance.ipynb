{
 "cells": [
  {
   "cell_type": "code",
   "execution_count": 1,
   "id": "a396581f",
   "metadata": {},
   "outputs": [],
   "source": [
    "#libraries\n",
    "import requests\n",
    "from bs4 import BeautifulSoup\n",
    "from lxml import etree\n",
    "import sqlite3\n"
   ]
  },
  {
   "cell_type": "code",
   "execution_count": 9,
   "id": "4f805d19",
   "metadata": {},
   "outputs": [],
   "source": [
    "zomato = \"https://www.zomato.com/mumbai/ettarra-1-juhu/reviews\"\n",
    "source = requests.get('https://www.zomato.com/mumbai/ettarra-1-juhu/reviews').text\n",
    "soup = BeautifulSoup(source, 'lxml')"
   ]
  },
  {
   "cell_type": "code",
   "execution_count": 2,
   "id": "bce511ca",
   "metadata": {},
   "outputs": [],
   "source": [
    "#links for different webpages\n",
    "\n",
    "#market trends -\n",
    "\n",
    "#most active\n",
    "most_active = \"https://www.google.com/finance/markets/most-active?hl=en\"\n",
    "\n",
    "#gainers\n",
    "gainers = \"https://www.google.com/finance/markets/gainers?hl=en\"\n",
    "\n",
    "#losers\n",
    "losers = \"https://www.google.com/finance/markets/losers?hl=en\"\n",
    "\n",
    "#currencies\n",
    "currencies = \"https://www.google.com/finance/markets/currencies?hl=en\"\n",
    "\n",
    "#financial news - \n",
    "\n",
    "#top stories\n",
    "top_stories = \"https://www.google.com/finance/?hl=en\"\n"
   ]
  },
  {
   "cell_type": "code",
   "execution_count": 3,
   "id": "7bf16d0d",
   "metadata": {},
   "outputs": [],
   "source": [
    "zomato_res = requests.get(zomato)"
   ]
  },
  {
   "cell_type": "code",
   "execution_count": 3,
   "id": "64058f35",
   "metadata": {},
   "outputs": [],
   "source": [
    "#responses recieved from urls\n",
    "\n",
    "most_active_response = requests.get(most_active)\n",
    "gainers_response = requests.get(gainers)\n",
    "losers_response = requests.get(losers)\n",
    "currencies_response = requests.get(currencies)\n",
    "top_stories_response = requests.get(top_stories)"
   ]
  },
  {
   "cell_type": "code",
   "execution_count": 4,
   "id": "cd551694",
   "metadata": {},
   "outputs": [],
   "source": [
    "soup_zomato = BeautifulSoup(zomato_res.content,\"html.parser\")"
   ]
  },
  {
   "cell_type": "code",
   "execution_count": 4,
   "id": "9da5084b",
   "metadata": {},
   "outputs": [],
   "source": [
    "#soup\n",
    "\n",
    "soup_most_active = BeautifulSoup(most_active_response.content,\"html.parser\")\n",
    "soup_gainers = BeautifulSoup(gainers_response.content,\"html.parser\")\n",
    "soup_losers = BeautifulSoup(losers_response.content,\"html.parser\")\n",
    "soup_currencies = BeautifulSoup(currencies_response.content,\"html.parser\")\n",
    "soup_top_stories = BeautifulSoup(top_stories_response.content,\"html.parser\")"
   ]
  },
  {
   "cell_type": "code",
   "execution_count": 5,
   "id": "3eddb19d",
   "metadata": {},
   "outputs": [],
   "source": [
    "dom_zomato = etree.HTML(str(soup_zomato))"
   ]
  },
  {
   "cell_type": "code",
   "execution_count": 5,
   "id": "1ebcc0d0",
   "metadata": {},
   "outputs": [],
   "source": [
    "#dom\n",
    "\n",
    "dom_most_active = etree.HTML(str(soup_most_active))\n",
    "dom_gainers = etree.HTML(str(soup_gainers))\n",
    "dom_losers = etree.HTML(str(soup_losers))\n",
    "dom_currencies = etree.HTML(str(soup_currencies))\n",
    "dom_top_stories = etree.HTML(str(soup_top_stories))"
   ]
  },
  {
   "cell_type": "code",
   "execution_count": 15,
   "id": "ec195328",
   "metadata": {},
   "outputs": [],
   "source": [
    "reviews = (dom_zomato.xpath('//div[@class=\"sc-gxbSSY DPjKC\"]/p[@class=\"sc-1hez2tp-0 fKvqMN time-stamp\"]/text()'))\n",
    "\n",
    "review = soup.find('p',class_='sc-1hez2tp-0 sc-csZoYU dJxGwQ')"
   ]
  },
  {
   "cell_type": "code",
   "execution_count": 16,
   "id": "4ff3f5ee",
   "metadata": {},
   "outputs": [
    {
     "name": "stdout",
     "output_type": "stream",
     "text": [
      "[]\n"
     ]
    }
   ],
   "source": [
    "print(reviews)"
   ]
  },
  {
   "cell_type": "code",
   "execution_count": 6,
   "id": "085b1580",
   "metadata": {},
   "outputs": [
    {
     "name": "stdout",
     "output_type": "stream",
     "text": [
      "50\n",
      "50\n"
     ]
    }
   ],
   "source": [
    "# most_active data\n",
    "\n",
    "names = (dom_most_active.xpath('//*[@class=\"ZvmM7\"]/text()'))\n",
    "current_prices = (dom_most_active.xpath('//div[@class=\"xVyTdb ytSBif\"]/span[@class=\"JLPHhb\"]/div[@class=\"Bu4oXd\" and @jsname=\"ip75Cb\"]//*[@class=\"YMlKec\"]/text()'))\n",
    "print(len(names))\n",
    "print(len(current_prices))"
   ]
  },
  {
   "cell_type": "code",
   "execution_count": 7,
   "id": "319331ca",
   "metadata": {},
   "outputs": [
    {
     "name": "stdout",
     "output_type": "stream",
     "text": [
      "50\n",
      "50\n",
      "50\n"
     ]
    }
   ],
   "source": [
    "#gainers data\n",
    "Gnames = (dom_gainers.xpath('//*[@class=\"ZvmM7\"]/text()'))\n",
    "Gcurrent_prices = (dom_gainers.xpath('//div[@class=\"xVyTdb ytSBif\"]/span[@class=\"JLPHhb\"]/div[@class=\"Bu4oXd\" and @jsname=\"ip75Cb\"]//*[@class=\"YMlKec\"]/text()'))\n",
    "Ggain = (dom_gainers.xpath('//div[@class=\"xVyTdb ghTit\"]/div[@class=\"SEGxAb\"]/div[@class=\"BAftM\" and @jsname=\"vY9t3b\"]//*[@class=\"P2Luy Ez2Ioe\"]/text()'))\n",
    "print(len(Gnames))\n",
    "print(len(Gcurrent_prices))\n",
    "# print(Gnames) \n",
    "print(len(Ggain))\n",
    "# print(Ggain)"
   ]
  },
  {
   "cell_type": "code",
   "execution_count": 8,
   "id": "2edc07fc",
   "metadata": {},
   "outputs": [
    {
     "name": "stdout",
     "output_type": "stream",
     "text": [
      "50\n",
      "50\n",
      "50\n"
     ]
    }
   ],
   "source": [
    "#losers data\n",
    "\n",
    "Lnames = (dom_losers.xpath('//*[@class=\"ZvmM7\"]/text()'))\n",
    "Lcurrent_prices = (dom_losers.xpath('//div[@class=\"xVyTdb ytSBif\"]/span[@class=\"JLPHhb\"]/div[@class=\"Bu4oXd\" and @jsname=\"ip75Cb\"]//*[@class=\"YMlKec\"]/text()'))\n",
    "Llose = (dom_losers.xpath('//div[@class=\"xVyTdb ghTit\"]/div[@class=\"SEGxAb\"]/div[@class=\"BAftM\" and @jsname=\"vY9t3b\"]//*[@class=\"P2Luy Ebnabc\"]/text()'))\n",
    "print(len(Lnames))\n",
    "print(len(Lcurrent_prices))\n",
    "print(len(Llose))\n"
   ]
  },
  {
   "cell_type": "code",
   "execution_count": 9,
   "id": "d9bef46a",
   "metadata": {},
   "outputs": [
    {
     "name": "stdout",
     "output_type": "stream",
     "text": [
      "69\n",
      "69\n"
     ]
    }
   ],
   "source": [
    "#currencies data\n",
    "Currency = (dom_currencies.xpath('//*[@class=\"ZvmM7\"]/text()'))\n",
    "Price = (dom_currencies.xpath('//div[@class=\"xVyTdb ytSBif\"]/span[@class=\"JLPHhb\"]/div[@class=\"Bu4oXd\" and @jsname=\"ip75Cb\"]//*[@class=\"YMlKec\"]/text()'))\n",
    "# print(Currency)\n",
    "# print(Price)\n",
    "print(len(Currency))\n",
    "print(len(Price))"
   ]
  },
  {
   "cell_type": "code",
   "execution_count": 10,
   "id": "bfb607ef",
   "metadata": {},
   "outputs": [
    {
     "name": "stdout",
     "output_type": "stream",
     "text": [
      "3\n"
     ]
    }
   ],
   "source": [
    "#top_stories data\n",
    "links = soup_top_stories.select('img')\n",
    "print(len(links))"
   ]
  },
  {
   "cell_type": "code",
   "execution_count": 11,
   "id": "29f11ab8",
   "metadata": {},
   "outputs": [],
   "source": [
    "#database connection \n",
    "\n",
    "connection = sqlite3.connect(\"Google_Finance_.db\")\n",
    "c = connection.cursor()"
   ]
  },
  {
   "cell_type": "code",
   "execution_count": 12,
   "id": "96f82e0b",
   "metadata": {},
   "outputs": [
    {
     "data": {
      "text/plain": [
       "<sqlite3.Cursor at 0x1dc873cc2c0>"
      ]
     },
     "execution_count": 12,
     "metadata": {},
     "output_type": "execute_result"
    }
   ],
   "source": [
    "#creating tables \n",
    "\n",
    "#most_active table\n",
    "c.execute('''CREATE TABLE IF NOT EXISTS MostActive\n",
    "             (name TEXT, \n",
    "             price TEXT)''')\n",
    "\n",
    "#gainers table\n",
    "c.execute('''CREATE TABLE IF NOT EXISTS Gainers\n",
    "             (Gname TEXT, \n",
    "             Gprice TEXT,\n",
    "             Ggain TEXT)''')\n",
    "#losers table\n",
    "c.execute('''CREATE TABLE IF NOT EXISTS Losers\n",
    "             (Lname TEXT, \n",
    "             Lprice TEXT,\n",
    "             Llose TEXT)''')\n",
    "\n",
    "#currencies table\n",
    "c.execute('''CREATE TABLE IF NOT EXISTS Currencies\n",
    "             (Currency TEXT,\n",
    "             Price TEXT)''')\n",
    "#top_stories table\n",
    "c.execute('''CREATE TABLE IF NOT EXISTS Links (url TEXT)''')"
   ]
  },
  {
   "cell_type": "code",
   "execution_count": 13,
   "id": "24279633",
   "metadata": {},
   "outputs": [
    {
     "name": "stdout",
     "output_type": "stream",
     "text": [
      "<img alt=\"\" height=\"24\" src=\"//ssl.gstatic.com/images/branding/googlelogo/svg/googlelogo_clr_74x24px.svg\" width=\"74\"/>\n",
      "<img alt=\"GLeaf logo\" class=\"zA0Uvc rMF4zc\" src=\"https://fonts.gstatic.com/s/i/productlogos/gleaf_dual_tone/v1/192px.svg\"/>\n",
      "<img alt=\"\" height=\"24\" src=\"//ssl.gstatic.com/images/branding/googlelogo/1x/googlelogo_dark_color_74x24dp.png\" width=\"74\"/>\n"
     ]
    }
   ],
   "source": [
    "# inserting data into tables\n",
    "\n",
    "#most_active table\n",
    "for name,price in zip(names,current_prices):\n",
    "  c.execute(\"INSERT INTO MostActive (name, price) VALUES (?,?)\",(name,price))\n",
    "\n",
    "#gainers table\n",
    "for Gname,Gprice,Ggain in zip(Gnames,Gcurrent_prices,Ggain):\n",
    "  c.execute(\"INSERT INTO Gainers (Gname, Gprice, Ggain) VALUES (?,?,?)\",(Gname,Gprice,Ggain))\n",
    "\n",
    "#losers table\n",
    "for Lname,Lprice,Llose in zip(Lnames,Lcurrent_prices,Llose):\n",
    "  c.execute(\"INSERT INTO Losers (Lname, Lprice, Llose) VALUES (?,?,?)\",(Lname,Lprice,Llose))\n",
    "\n",
    "#currencies table\n",
    "for curr,price in zip(Currency,Price):\n",
    "    c.execute(\"INSERT INTO Currencies (Currency,Price) VALUES (?,?)\",(curr,price))\n",
    "    \n",
    "#top_stories table\n",
    "for link in links:\n",
    "    print(link)\n",
    "    c.execute(\"INSERT INTO Links (url) VALUES (?)\", (link['src'],))"
   ]
  },
  {
   "cell_type": "code",
   "execution_count": 14,
   "id": "bb2a9ee5",
   "metadata": {},
   "outputs": [],
   "source": [
    "#commiting to db and closing connection\n",
    "\n",
    "connection.commit()\n",
    "connection.close()"
   ]
  }
 ],
 "metadata": {
  "kernelspec": {
   "display_name": "Python 3 (ipykernel)",
   "language": "python",
   "name": "python3"
  },
  "language_info": {
   "codemirror_mode": {
    "name": "ipython",
    "version": 3
   },
   "file_extension": ".py",
   "mimetype": "text/x-python",
   "name": "python",
   "nbconvert_exporter": "python",
   "pygments_lexer": "ipython3",
   "version": "3.10.1"
  }
 },
 "nbformat": 4,
 "nbformat_minor": 5
}
