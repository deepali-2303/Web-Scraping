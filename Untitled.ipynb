{
 "cells": [
  {
   "cell_type": "code",
   "execution_count": 1,
   "id": "7e482dbb",
   "metadata": {},
   "outputs": [],
   "source": [
    "#libraries\n",
    "import requests\n",
    "from bs4 import BeautifulSoup\n",
    "from lxml import etree\n",
    "import sqlite3"
   ]
  },
  {
   "cell_type": "code",
   "execution_count": 2,
   "id": "1d8ff5c2",
   "metadata": {},
   "outputs": [],
   "source": [
    "#links\n",
    "\n",
    "#recent release\n",
    "recent_release = \"https://gogoanimehd.io/\"\n",
    "\n",
    "#movies \n",
    "movies = \"https://gogoanimehd.io/anime-movies.html\"\n",
    "\n"
   ]
  },
  {
   "cell_type": "code",
   "execution_count": 3,
   "id": "327a743d",
   "metadata": {},
   "outputs": [],
   "source": [
    "#response recieved \n",
    "recent_release_response = requests.get(recent_release)\n",
    "movies_response = requests.get(movies)"
   ]
  },
  {
   "cell_type": "code",
   "execution_count": 4,
   "id": "229b330c",
   "metadata": {},
   "outputs": [],
   "source": [
    "#soup\n",
    "\n",
    "soup_recent_release = BeautifulSoup(recent_release_response.content,\"html.parser\")\n",
    "soup_movies = BeautifulSoup(movies_response.content,\"html.parser\")"
   ]
  },
  {
   "cell_type": "code",
   "execution_count": 5,
   "id": "3590479f",
   "metadata": {},
   "outputs": [],
   "source": [
    "#dom\n",
    "\n",
    "dom_recent_release = etree.HTML(str(soup_recent_release))\n",
    "dom_movies = etree.HTML(str(soup_movies))"
   ]
  },
  {
   "cell_type": "code",
   "execution_count": 6,
   "id": "7c94bf4c",
   "metadata": {},
   "outputs": [],
   "source": [
    "#data \n",
    "\n",
    "#USING XPATH\n",
    "name = (dom_recent_release.xpath('//div[@class=\"last_episodes loaddub\"]/ul[@class=\"items\"]/li//*[@class=\"name\"]/a/text()'))\n",
    "img = (dom_recent_release.xpath('//*[@class = \"img\"]/a/img/@src'))\n",
    "episodes = (dom_recent_release.xpath('//*[@class = \"episode\"]/text()'))\n",
    "\n",
    "print(len(name))\n",
    "print(len(img))\n",
    "print(len(episodes))\n",
    "# print(name)\n",
    "# print(img)\n",
    "# print(episodes)\n",
    "\n"
   ]
  },
  {
   "cell_type": "code",
   "execution_count": 7,
   "id": "70b7e94c",
   "metadata": {},
   "outputs": [],
   "source": [
    "#data\n",
    "\n",
    "#USING CSS PATH\n",
    "genres = soup_recent_release.find(\"nav\", class_=\"menu_series genre right\")\n",
    "ul_element = genres.find('ul')\n",
    "li_elements = ul_element.find_all('li')\n",
    "genre_name = []\n",
    "references = []\n",
    "\n",
    "\n",
    "for li in li_elements:\n",
    "    name_ = li.text.strip()\n",
    "    genre_name.append(name_)\n",
    "    genre_href = li.find('a')['href']\n",
    "    references.append(( genre_href))\n",
    "    \n",
    "print(len(genre_name))\n",
    "# print(genre_name)\n",
    "print(len(references))\n",
    "# print(references)\n"
   ]
  },
  {
   "cell_type": "code",
   "execution_count": 8,
   "id": "3b729827",
   "metadata": {},
   "outputs": [],
   "source": [
    "#data \n",
    "\n",
    "#USING XPATH\n",
    "Mname = (dom_movies.xpath('//div[@class=\"last_episodes\"]/ul[@class=\"items\"]/li//*[@class=\"name\"]/a/text()'))\n",
    "Mimg = (dom_movies.xpath('//div[@class=\"last_episodes\"]/ul[@class=\"items\"]/li//*[@class = \"img\"]/a/img/@src'))\n",
    "Mrelease = [release.strip() for release in dom_movies.xpath('//div[@class=\"last_episodes\"]/ul[@class=\"items\"]/li//*[@class=\"released\"]/text()')]\n",
    "\n",
    "\n",
    "print(len(Mname))\n",
    "print(len(Mimg))\n",
    "print(len(Mrelease))\n",
    "\n",
    "# print(Mname)\n",
    "# print(Mimg)\n",
    "# print(Mrelease)\n"
   ]
  },
  {
   "cell_type": "code",
   "execution_count": 9,
   "id": "7ab40b48",
   "metadata": {},
   "outputs": [],
   "source": [
    "#database connection \n",
    "\n",
    "connection = sqlite3.connect(\"Anime_Website.db\")\n",
    "c = connection.cursor()"
   ]
  },
  {
   "cell_type": "code",
   "execution_count": 10,
   "id": "2efd0ddd",
   "metadata": {},
   "outputs": [],
   "source": [
    "#creating tables\n",
    "\n",
    "c.execute('''CREATE TABLE IF NOT EXISTS Recent_Release\n",
    "             (Name TEXT, \n",
    "             Image url,\n",
    "             Episodes TEXT)''')\n",
    "\n",
    "c.execute('''CREATE TABLE IF NOT EXISTS Genres\n",
    "             (Name TEXT, \n",
    "             Reference url)''')\n",
    "c.execute('''CREATE TABLE IF NOT EXISTS Movies\n",
    "             (Name TEXT,\n",
    "             Image url,\n",
    "             Released TEXT)''')"
   ]
  },
  {
   "cell_type": "code",
   "execution_count": 11,
   "id": "1dbb5851",
   "metadata": {},
   "outputs": [],
   "source": [
    "#inserting data in the tables\n",
    "\n",
    "for n,i,e in zip(name,img,episodes):\n",
    "  c.execute(\"INSERT INTO Recent_Release (Name, Image, Episodes) VALUES (?,?,?)\",(n,i,e))\n",
    "\n",
    "for ng,r in zip(genre_name,references):\n",
    "    c.execute(\"INSERT INTO Genres (Name,Reference) VALUES (?,?)\",(ng,r))\n",
    "    \n",
    "for mn,mi,me in zip(Mname,Mimg,Mrelease):\n",
    "  c.execute(\"INSERT INTO Movies (Name, Image, Released) VALUES (?,?,?)\",(mn,mi,me))\n",
    "\n"
   ]
  },
  {
   "cell_type": "code",
   "execution_count": 12,
   "id": "a7426bf3",
   "metadata": {},
   "outputs": [],
   "source": [
    "#commiting to db and closing connection\n",
    "\n",
    "connection.commit()\n",
    "connection.close()"
   ]
  },
  {
   "cell_type": "code",
   "execution_count": null,
   "id": "9729d5db",
   "metadata": {},
   "outputs": [],
   "source": []
  }
 ],
 "metadata": {
  "kernelspec": {
   "display_name": "Python 3 (ipykernel)",
   "language": "python",
   "name": "python3"
  },
  "language_info": {
   "codemirror_mode": {
    "name": "ipython",
    "version": 3
   },
   "file_extension": ".py",
   "mimetype": "text/x-python",
   "name": "python",
   "nbconvert_exporter": "python",
   "pygments_lexer": "ipython3",
   "version": "3.10.1"
  }
 },
 "nbformat": 4,
 "nbformat_minor": 5
}
